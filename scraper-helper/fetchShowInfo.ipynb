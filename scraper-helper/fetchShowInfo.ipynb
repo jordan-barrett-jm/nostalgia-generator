{
 "cells": [
  {
   "cell_type": "code",
   "execution_count": null,
   "id": "fbfe4238-bddb-49d4-b783-c6c8d64440bf",
   "metadata": {},
   "outputs": [],
   "source": [
    "import requests\n",
    "from bs4 import BeautifulSoup\n",
    "import json\n",
    "\n",
    "API_ENDPOINT = \"http://127.0.0.1:8000/shows/\"\n",
    "headers = {\n",
    "    'Content-Type':'application/json'\n",
    "}"
   ]
  },
  {
   "cell_type": "code",
   "execution_count": null,
   "id": "c0c4cd7d-5284-4702-8a5a-a4c29c6647db",
   "metadata": {},
   "outputs": [],
   "source": [
    "requests.get(API_ENDPOINT).text"
   ]
  },
  {
   "cell_type": "code",
   "execution_count": null,
   "id": "97bfbc75-48ef-4e8b-b7d5-506a5058cbb0",
   "metadata": {},
   "outputs": [],
   "source": [
    "list_page = requests.get(\"https://www.imdb.com/list/ls004451533/?sort=list_order,asc&st_dt=&mode=simple&page=1&ref_=ttls_vw_smp\").text"
   ]
  },
  {
   "cell_type": "code",
   "execution_count": null,
   "id": "94b20f13-35cf-41e8-b1d6-1b8b26c79547",
   "metadata": {},
   "outputs": [],
   "source": [
    "soup = BeautifulSoup(list_page, 'html.parser')"
   ]
  },
  {
   "cell_type": "code",
   "execution_count": null,
   "id": "946c3385-064b-4f93-ba8e-f45089e2d901",
   "metadata": {},
   "outputs": [],
   "source": [
    "items = soup.findAll(class_=\"lister-item-content\")"
   ]
  },
  {
   "cell_type": "code",
   "execution_count": null,
   "id": "1640ad56-8e09-4004-92b4-ef08c12251d2",
   "metadata": {
    "tags": []
   },
   "outputs": [],
   "source": [
    "for show in items:\n",
    "    show_dct = {}\n",
    "    show_dct['name'] = show.find(class_=\"lister-item-header\").find(\"a\").text\n",
    "    show_dct['category'] = \"2000s\"\n",
    "    run_time = show.find(class_=\"lister-item-year\").text.replace(\"(\",\"\").replace(\")\",\"\").split(\"–\")\n",
    "    show_dct['start_year'] = run_time[0]\n",
    "    if len(run_time) > 1:\n",
    "        if run_time[1] != \" \":\n",
    "            show_dct['end_year'] = run_time[1]\n",
    "        else:\n",
    "            show_dct['end_year'] = start_year\n",
    "    else:\n",
    "        show_dct['end_year'] = start_year\n",
    "    print (json.dumps(show_dct))\n",
    "    req = requests.post(API_ENDPOINT, data=json.dumps(show_dct), headers=headers)\n",
    "    print (req.text)\n",
    "    "
   ]
  },
  {
   "cell_type": "code",
   "execution_count": null,
   "id": "c6614710-473c-4c4c-944e-6c8fd06ed087",
   "metadata": {
    "tags": []
   },
   "outputs": [],
   "source": [
    "soup"
   ]
  },
  {
   "cell_type": "code",
   "execution_count": null,
   "id": "c0fb295a-e37b-4108-b684-a04685c81d45",
   "metadata": {},
   "outputs": [],
   "source": []
  }
 ],
 "metadata": {
  "kernelspec": {
   "display_name": "Python 3",
   "language": "python",
   "name": "python3"
  },
  "language_info": {
   "codemirror_mode": {
    "name": "ipython",
    "version": 3
   },
   "file_extension": ".py",
   "mimetype": "text/x-python",
   "name": "python",
   "nbconvert_exporter": "python",
   "pygments_lexer": "ipython3",
   "version": "3.9.5"
  }
 },
 "nbformat": 4,
 "nbformat_minor": 5
}
