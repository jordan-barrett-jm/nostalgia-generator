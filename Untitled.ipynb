{
 "cells": [
  {
   "cell_type": "code",
   "execution_count": 1,
   "id": "de86f246-c340-455e-bcd9-738112406543",
   "metadata": {},
   "outputs": [],
   "source": [
    "from youtubesearchpython import VideosSearch\n"
   ]
  },
  {
   "cell_type": "code",
   "execution_count": 2,
   "id": "ccdd16de-6c3d-492e-bebc-31e8df386a56",
   "metadata": {},
   "outputs": [],
   "source": [
    "search = VideosSearch(\"Drake and Josh\", limit=1).result()"
   ]
  },
  {
   "cell_type": "code",
   "execution_count": 3,
   "id": "0d9f3cf3-b8cb-4daa-9ae0-e1027856057e",
   "metadata": {},
   "outputs": [
    {
     "data": {
      "text/plain": [
       "{'result': [{'type': 'video',\n",
       "   'id': 'oW32UUp8AgY',\n",
       "   'title': 'Drake & Josh - Una Chica Inteligente 6x2 Parte 6',\n",
       "   'publishedTime': '1 year ago',\n",
       "   'duration': '2:57',\n",
       "   'viewCount': {'text': '355,200 views', 'short': '355K views'},\n",
       "   'thumbnails': [{'url': 'https://i.ytimg.com/vi/oW32UUp8AgY/hq720.jpg?sqp=-oaymwEcCOgCEMoBSFXyq4qpAw4IARUAAIhCGAFwAcABBg==&rs=AOn4CLDt0X9mAaO7pS28PnhuJt9SyPvzaw',\n",
       "     'width': 360,\n",
       "     'height': 202},\n",
       "    {'url': 'https://i.ytimg.com/vi/oW32UUp8AgY/hq720.jpg?sqp=-oaymwEcCNAFEJQDSFXyq4qpAw4IARUAAIhCGAFwAcABBg==&rs=AOn4CLBW0JSJdcBXatyGPs1VCnVWMTmyoQ',\n",
       "     'width': 720,\n",
       "     'height': 404}],\n",
       "   'richThumbnail': None,\n",
       "   'descriptionSnippet': [{'text': 'Para ver mas capítulos de '},\n",
       "    {'text': 'Drake', 'bold': True},\n",
       "    {'text': ' y '},\n",
       "    {'text': 'Josh', 'bold': True},\n",
       "    {'text': ' avisenme y estén atento a mí canal Les invitó a qué vean el canal de mí amigo que sube\\xa0...'}],\n",
       "   'channel': {'name': 'Martin17',\n",
       "    'id': 'UCMRPGVqEfFU1LE8AnrhqyNA',\n",
       "    'thumbnails': [{'url': 'https://yt3.ggpht.com/ytc/AKedOLTfmTp6GhuXT35NUfIiyGjafAK5whhF3iAvRSO6Dw=s68-c-k-c0x00ffffff-no-rj',\n",
       "      'width': 68,\n",
       "      'height': 68}],\n",
       "    'link': 'https://www.youtube.com/channel/UCMRPGVqEfFU1LE8AnrhqyNA'},\n",
       "   'accessibility': {'title': 'Drake & Josh - Una Chica Inteligente 6x2 Parte 6 by Martin17 1 year ago 2 minutes, 57 seconds 355,200 views',\n",
       "    'duration': '2 minutes, 57 seconds'},\n",
       "   'link': 'https://www.youtube.com/watch?v=oW32UUp8AgY',\n",
       "   'shelfTitle': None}]}"
      ]
     },
     "execution_count": 3,
     "metadata": {},
     "output_type": "execute_result"
    }
   ],
   "source": [
    "search"
   ]
  },
  {
   "cell_type": "code",
   "execution_count": null,
   "id": "752b1367-fe3f-4d50-b746-6bd8f0a15fdd",
   "metadata": {},
   "outputs": [],
   "source": []
  }
 ],
 "metadata": {
  "kernelspec": {
   "display_name": "Python 3",
   "language": "python",
   "name": "python3"
  },
  "language_info": {
   "codemirror_mode": {
    "name": "ipython",
    "version": 3
   },
   "file_extension": ".py",
   "mimetype": "text/x-python",
   "name": "python",
   "nbconvert_exporter": "python",
   "pygments_lexer": "ipython3",
   "version": "3.9.5"
  }
 },
 "nbformat": 4,
 "nbformat_minor": 5
}
